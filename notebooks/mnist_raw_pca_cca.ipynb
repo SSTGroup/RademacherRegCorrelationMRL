{
 "cells": [
  {
   "cell_type": "code",
   "execution_count": 1,
   "id": "1ffee39e",
   "metadata": {},
   "outputs": [],
   "source": [
    "%load_ext autoreload\n",
    "%autoreload 2"
   ]
  },
  {
   "cell_type": "code",
   "execution_count": 2,
   "id": "1cdfd6a0",
   "metadata": {},
   "outputs": [],
   "source": [
    "import os\n",
    "import numpy as np\n",
    "import tensorflow as tf\n",
    "import pickle\n",
    "\n",
    "from datetime import datetime\n",
    "\n",
    "from complexity_regularized_dcca.data.mnist import MNISTData\n",
    "from complexity_regularized_dcca.algorithms.correlation import CCA\n",
    "from complexity_regularized_dcca.algorithms.clustering import spectral_clustering_acc\n",
    "\n",
    "from sklearn.decomposition import PCA\n",
    "from sklearn.svm import LinearSVC as SVM\n",
    "from sklearn.metrics import accuracy_score\n",
    "from sklearn.preprocessing import MinMaxScaler\n",
    "from complexity_regularized_dcca.algorithms.losses_metrics import MetricDict, MovingMetric\n",
    "from tqdm.auto import tqdm"
   ]
  },
  {
   "cell_type": "markdown",
   "id": "bad6cf93",
   "metadata": {},
   "source": [
    "# Dataprovider"
   ]
  },
  {
   "cell_type": "code",
   "execution_count": 9,
   "id": "faa7a249",
   "metadata": {},
   "outputs": [],
   "source": [
    "dataprovider = MNISTData.from_saved_data()"
   ]
  },
  {
   "cell_type": "markdown",
   "id": "5e503443",
   "metadata": {},
   "source": [
    "# Raw"
   ]
  },
  {
   "cell_type": "code",
   "execution_count": null,
   "id": "286fbb1f",
   "metadata": {},
   "outputs": [],
   "source": [
    "data_for_acc = dataprovider.test_data\n",
    "\n",
    "outputs_met, labels_met = MetricDict(), MetricDict()\n",
    "for data in data_for_acc:\n",
    "    outputs_met.update(dict(view_0=data['nn_input_0']))\n",
    "    labels_met.update(dict(labels=data[\"labels\"].numpy()))\n",
    "\n",
    "netw_output = outputs_met.output()\n",
    "labels = labels_met.output()[\"labels\"]\n",
    "\n",
    "latent_repr = netw_output[\"view_0\"]\n",
    "\n",
    "acc = spectral_clustering_acc(\n",
    "    data_points=latent_repr,\n",
    "    labels=labels,\n",
    "    num_classes=dataprovider.num_classes\n",
    ")\n",
    "\n",
    "print(acc)\n",
    "print(\"---\")"
   ]
  },
  {
   "cell_type": "markdown",
   "id": "345c5190",
   "metadata": {},
   "source": [
    "# PCA"
   ]
  },
  {
   "cell_type": "code",
   "execution_count": 4,
   "id": "e83ad663",
   "metadata": {
    "scrolled": true
   },
   "outputs": [
    {
     "data": {
      "application/vnd.jupyter.widget-view+json": {
       "model_id": "a4fbe9af88644d78bb9652ecd2df7565",
       "version_major": 2,
       "version_minor": 0
      },
      "text/plain": [
       "  0%|          | 0/16 [00:00<?, ?it/s]"
      ]
     },
     "metadata": {},
     "output_type": "display_data"
    },
    {
     "name": "stdout",
     "output_type": "stream",
     "text": [
      "80\n",
      "0.3261\n",
      "---\n",
      "75\n",
      "0.3266\n",
      "---\n",
      "70\n",
      "0.3281\n",
      "---\n",
      "65\n",
      "0.3286\n",
      "---\n",
      "60\n",
      "0.3294\n",
      "---\n",
      "55\n",
      "0.3292\n",
      "---\n",
      "50\n",
      "0.3306\n",
      "---\n",
      "45\n",
      "0.3303\n",
      "---\n",
      "40\n",
      "0.3267\n",
      "---\n",
      "35\n",
      "0.3244\n",
      "---\n",
      "30\n",
      "0.3216\n",
      "---\n",
      "25\n",
      "0.3169\n",
      "---\n",
      "20\n",
      "0.3126\n",
      "---\n",
      "15\n",
      "0.32\n",
      "---\n",
      "10\n",
      "0.2907\n",
      "---\n",
      "5\n",
      "0.294\n",
      "---\n"
     ]
    }
   ],
   "source": [
    "pca_train_met = MetricDict()\n",
    "for batch in dataprovider.training_data:\n",
    "    pca_train_met.update(batch)\n",
    "    \n",
    "pca_train = pca_train_met.output()\n",
    "    \n",
    "data_for_acc = dataprovider.eval_data\n",
    "\n",
    "for pca_dim in tqdm([80, 75, 70, 65, 60, 55, 50, 45, 40, 35, 30, 25, 20, 15, 10, 5]):\n",
    "    \n",
    "    pca = PCA(n_components=pca_dim, random_state=333).fit(pca_train['nn_input_0'])\n",
    "\n",
    "    outputs_met, labels_met = MetricDict(), MetricDict()\n",
    "    for data in data_for_acc:\n",
    "        pca_transformed = pca.transform(data['nn_input_0'])\n",
    "\n",
    "        outputs_met.update(dict(pca_view_0=pca_transformed))\n",
    "        labels_met.update(dict(labels=data[\"labels\"].numpy()))\n",
    "\n",
    "    netw_output = outputs_met.output()\n",
    "    labels = labels_met.output()[\"labels\"]\n",
    "\n",
    "    latent_repr = netw_output[\"pca_view_0\"]\n",
    "\n",
    "    acc = spectral_clustering_acc(\n",
    "        data_points=latent_repr,\n",
    "        labels=labels,\n",
    "        num_classes=dataprovider.num_classes\n",
    "    )\n",
    "\n",
    "    print(pca_dim)\n",
    "    print(acc)\n",
    "    print(\"---\")"
   ]
  },
  {
   "cell_type": "code",
   "execution_count": 5,
   "id": "60969d36",
   "metadata": {},
   "outputs": [
    {
     "name": "stdout",
     "output_type": "stream",
     "text": [
      "0.3807\n"
     ]
    }
   ],
   "source": [
    "data_for_acc = dataprovider.test_data\n",
    "\n",
    "pca_dim = 50\n",
    "    \n",
    "pca = PCA(n_components=pca_dim, random_state=333).fit(pca_train['nn_input_0'])\n",
    "\n",
    "outputs_met, labels_met = MetricDict(), MetricDict()\n",
    "for data in data_for_acc:\n",
    "    pca_transformed = pca.transform(data['nn_input_0'])\n",
    "\n",
    "    outputs_met.update(dict(pca_view_0=pca_transformed))\n",
    "    labels_met.update(dict(labels=data[\"labels\"].numpy()))\n",
    "\n",
    "netw_output = outputs_met.output()\n",
    "labels = labels_met.output()[\"labels\"]\n",
    "\n",
    "latent_repr = netw_output[\"pca_view_0\"]\n",
    "\n",
    "acc = spectral_clustering_acc(\n",
    "    data_points=latent_repr,\n",
    "    labels=labels,\n",
    "    num_classes=dataprovider.num_classes\n",
    ")\n",
    "\n",
    "print(acc)"
   ]
  },
  {
   "cell_type": "markdown",
   "id": "b4ba1fa1",
   "metadata": {},
   "source": [
    "# CCA"
   ]
  },
  {
   "cell_type": "code",
   "execution_count": null,
   "id": "d01d32c4",
   "metadata": {},
   "outputs": [],
   "source": [
    "dataprovider = MNISTData.from_saved_data('mnist_0boxes')"
   ]
  },
  {
   "cell_type": "code",
   "execution_count": 4,
   "id": "95858a95",
   "metadata": {
    "scrolled": true
   },
   "outputs": [
    {
     "data": {
      "application/vnd.jupyter.widget-view+json": {
       "model_id": "de8609ee187c46b9828c5e40bbec2183",
       "version_major": 2,
       "version_minor": 0
      },
      "text/plain": [
       "  0%|          | 0/16 [00:00<?, ?it/s]"
      ]
     },
     "metadata": {},
     "output_type": "display_data"
    },
    {
     "data": {
      "application/vnd.jupyter.widget-view+json": {
       "model_id": "62f9b86a2a334190a0d52f15a50ee9ff",
       "version_major": 2,
       "version_minor": 0
      },
      "text/plain": [
       "  0%|          | 0/5 [00:00<?, ?it/s]"
      ]
     },
     "metadata": {},
     "output_type": "display_data"
    },
    {
     "name": "stderr",
     "output_type": "stream",
     "text": [
      "2023-09-04 17:05:00.287440: I tensorflow/stream_executor/cuda/cuda_blas.cc:1760] TensorFloat-32 will be used for the matrix multiplication. This will only be logged once.\n",
      "2023-09-04 17:05:00.301959: I tensorflow/core/util/cuda_solvers.cc:180] Creating CudaSolver handles for stream 0x5644368926a0\n"
     ]
    },
    {
     "name": "stdout",
     "output_type": "stream",
     "text": [
      "80\n",
      "0.0001\n",
      "0.4374\n",
      "---\n",
      "80\n",
      "0.001\n",
      "0.4267\n",
      "---\n",
      "80\n",
      "0.01\n",
      "0.4634\n",
      "---\n",
      "80\n",
      "0.1\n",
      "0.6226\n",
      "---\n",
      "80\n",
      "1\n",
      "0.7033\n",
      "---\n"
     ]
    },
    {
     "data": {
      "application/vnd.jupyter.widget-view+json": {
       "model_id": "0da61838e8c545359c7888afa307cc1c",
       "version_major": 2,
       "version_minor": 0
      },
      "text/plain": [
       "  0%|          | 0/5 [00:00<?, ?it/s]"
      ]
     },
     "metadata": {},
     "output_type": "display_data"
    },
    {
     "name": "stdout",
     "output_type": "stream",
     "text": [
      "75\n",
      "0.0001\n",
      "0.4827\n",
      "---\n",
      "75\n",
      "0.001\n",
      "0.3984\n",
      "---\n",
      "75\n",
      "0.01\n",
      "0.4879\n",
      "---\n",
      "75\n",
      "0.1\n",
      "0.603\n",
      "---\n",
      "75\n",
      "1\n",
      "0.7001\n",
      "---\n"
     ]
    },
    {
     "data": {
      "application/vnd.jupyter.widget-view+json": {
       "model_id": "2bbf46a1722f4d61880790c331d09d99",
       "version_major": 2,
       "version_minor": 0
      },
      "text/plain": [
       "  0%|          | 0/5 [00:00<?, ?it/s]"
      ]
     },
     "metadata": {},
     "output_type": "display_data"
    },
    {
     "name": "stdout",
     "output_type": "stream",
     "text": [
      "70\n",
      "0.0001\n",
      "0.4866\n",
      "---\n",
      "70\n",
      "0.001\n",
      "0.4582\n",
      "---\n",
      "70\n",
      "0.01\n",
      "0.5419\n",
      "---\n",
      "70\n",
      "0.1\n",
      "0.6473\n",
      "---\n",
      "70\n",
      "1\n",
      "0.7029\n",
      "---\n"
     ]
    },
    {
     "data": {
      "application/vnd.jupyter.widget-view+json": {
       "model_id": "744b536c811b4e6e84c828b05ac2bb55",
       "version_major": 2,
       "version_minor": 0
      },
      "text/plain": [
       "  0%|          | 0/5 [00:00<?, ?it/s]"
      ]
     },
     "metadata": {},
     "output_type": "display_data"
    },
    {
     "name": "stdout",
     "output_type": "stream",
     "text": [
      "65\n",
      "0.0001\n",
      "0.5071\n",
      "---\n",
      "65\n",
      "0.001\n",
      "0.472\n",
      "---\n",
      "65\n",
      "0.01\n",
      "0.6007\n",
      "---\n",
      "65\n",
      "0.1\n",
      "0.6615\n",
      "---\n",
      "65\n",
      "1\n",
      "0.7166\n",
      "---\n"
     ]
    },
    {
     "data": {
      "application/vnd.jupyter.widget-view+json": {
       "model_id": "3d7a5dbd5f604943a756b556effceed6",
       "version_major": 2,
       "version_minor": 0
      },
      "text/plain": [
       "  0%|          | 0/5 [00:00<?, ?it/s]"
      ]
     },
     "metadata": {},
     "output_type": "display_data"
    },
    {
     "name": "stdout",
     "output_type": "stream",
     "text": [
      "60\n",
      "0.0001\n",
      "0.525\n",
      "---\n",
      "60\n",
      "0.001\n",
      "0.5258\n",
      "---\n",
      "60\n",
      "0.01\n",
      "0.6077\n",
      "---\n",
      "60\n",
      "0.1\n",
      "0.6879\n",
      "---\n",
      "60\n",
      "1\n",
      "0.7034\n",
      "---\n"
     ]
    },
    {
     "data": {
      "application/vnd.jupyter.widget-view+json": {
       "model_id": "ec814d2b35504c159a8b8af1d17b339c",
       "version_major": 2,
       "version_minor": 0
      },
      "text/plain": [
       "  0%|          | 0/5 [00:00<?, ?it/s]"
      ]
     },
     "metadata": {},
     "output_type": "display_data"
    },
    {
     "name": "stdout",
     "output_type": "stream",
     "text": [
      "55\n",
      "0.0001\n",
      "0.5344\n",
      "---\n",
      "55\n",
      "0.001\n",
      "0.5352\n",
      "---\n",
      "55\n",
      "0.01\n",
      "0.6303\n",
      "---\n",
      "55\n",
      "0.1\n",
      "0.6912\n",
      "---\n",
      "55\n",
      "1\n",
      "0.7285\n",
      "---\n"
     ]
    },
    {
     "data": {
      "application/vnd.jupyter.widget-view+json": {
       "model_id": "4b8e643d92384bd882f7e8576fb9063e",
       "version_major": 2,
       "version_minor": 0
      },
      "text/plain": [
       "  0%|          | 0/5 [00:00<?, ?it/s]"
      ]
     },
     "metadata": {},
     "output_type": "display_data"
    },
    {
     "name": "stdout",
     "output_type": "stream",
     "text": [
      "50\n",
      "0.0001\n",
      "0.5792\n",
      "---\n",
      "50\n",
      "0.001\n",
      "0.5552\n",
      "---\n",
      "50\n",
      "0.01\n",
      "0.646\n",
      "---\n",
      "50\n",
      "0.1\n",
      "0.6959\n",
      "---\n",
      "50\n",
      "1\n",
      "0.7374\n",
      "---\n"
     ]
    },
    {
     "data": {
      "application/vnd.jupyter.widget-view+json": {
       "model_id": "3d642fcf244e4ba59a500e8f643a189d",
       "version_major": 2,
       "version_minor": 0
      },
      "text/plain": [
       "  0%|          | 0/5 [00:00<?, ?it/s]"
      ]
     },
     "metadata": {},
     "output_type": "display_data"
    },
    {
     "name": "stdout",
     "output_type": "stream",
     "text": [
      "45\n",
      "0.0001\n",
      "0.598\n",
      "---\n",
      "45\n",
      "0.001\n",
      "0.5915\n",
      "---\n",
      "45\n",
      "0.01\n",
      "0.6619\n",
      "---\n",
      "45\n",
      "0.1\n",
      "0.6939\n",
      "---\n",
      "45\n",
      "1\n",
      "0.7408\n",
      "---\n"
     ]
    },
    {
     "data": {
      "application/vnd.jupyter.widget-view+json": {
       "model_id": "47daed2de1c4405ba301547fe31f3799",
       "version_major": 2,
       "version_minor": 0
      },
      "text/plain": [
       "  0%|          | 0/5 [00:00<?, ?it/s]"
      ]
     },
     "metadata": {},
     "output_type": "display_data"
    },
    {
     "name": "stdout",
     "output_type": "stream",
     "text": [
      "40\n",
      "0.0001\n",
      "0.6162\n",
      "---\n",
      "40\n",
      "0.001\n",
      "0.6326\n",
      "---\n",
      "40\n",
      "0.01\n",
      "0.6712\n",
      "---\n",
      "40\n",
      "0.1\n",
      "0.7309\n",
      "---\n",
      "40\n",
      "1\n",
      "0.7478\n",
      "---\n"
     ]
    },
    {
     "data": {
      "application/vnd.jupyter.widget-view+json": {
       "model_id": "43cec901c72d49c7a969ebea8561e393",
       "version_major": 2,
       "version_minor": 0
      },
      "text/plain": [
       "  0%|          | 0/5 [00:00<?, ?it/s]"
      ]
     },
     "metadata": {},
     "output_type": "display_data"
    },
    {
     "name": "stdout",
     "output_type": "stream",
     "text": [
      "35\n",
      "0.0001\n",
      "0.6421\n",
      "---\n",
      "35\n",
      "0.001\n",
      "0.6543\n",
      "---\n",
      "35\n",
      "0.01\n",
      "0.6963\n",
      "---\n",
      "35\n",
      "0.1\n",
      "0.7335\n",
      "---\n",
      "35\n",
      "1\n",
      "0.7283\n",
      "---\n"
     ]
    },
    {
     "data": {
      "application/vnd.jupyter.widget-view+json": {
       "model_id": "68787a791ae947eda99d1592df133d20",
       "version_major": 2,
       "version_minor": 0
      },
      "text/plain": [
       "  0%|          | 0/5 [00:00<?, ?it/s]"
      ]
     },
     "metadata": {},
     "output_type": "display_data"
    },
    {
     "name": "stdout",
     "output_type": "stream",
     "text": [
      "30\n",
      "0.0001\n",
      "0.6693\n",
      "---\n",
      "30\n",
      "0.001\n",
      "0.6794\n",
      "---\n",
      "30\n",
      "0.01\n",
      "0.7089\n",
      "---\n",
      "30\n",
      "0.1\n",
      "0.7301\n",
      "---\n",
      "30\n",
      "1\n",
      "0.7736\n",
      "---\n"
     ]
    },
    {
     "data": {
      "application/vnd.jupyter.widget-view+json": {
       "model_id": "e837bc04ace5460684658ffb8f4cae3b",
       "version_major": 2,
       "version_minor": 0
      },
      "text/plain": [
       "  0%|          | 0/5 [00:00<?, ?it/s]"
      ]
     },
     "metadata": {},
     "output_type": "display_data"
    },
    {
     "name": "stdout",
     "output_type": "stream",
     "text": [
      "25\n",
      "0.0001\n",
      "0.6877\n",
      "---\n",
      "25\n",
      "0.001\n",
      "0.698\n",
      "---\n",
      "25\n",
      "0.01\n",
      "0.7297\n",
      "---\n",
      "25\n",
      "0.1\n",
      "0.7368\n",
      "---\n",
      "25\n",
      "1\n",
      "0.7699\n",
      "---\n"
     ]
    },
    {
     "data": {
      "application/vnd.jupyter.widget-view+json": {
       "model_id": "41ad42984c414514b262cc4e8db2e09c",
       "version_major": 2,
       "version_minor": 0
      },
      "text/plain": [
       "  0%|          | 0/5 [00:00<?, ?it/s]"
      ]
     },
     "metadata": {},
     "output_type": "display_data"
    },
    {
     "name": "stdout",
     "output_type": "stream",
     "text": [
      "20\n",
      "0.0001\n",
      "0.7234\n",
      "---\n",
      "20\n",
      "0.001\n",
      "0.7291\n",
      "---\n",
      "20\n",
      "0.01\n",
      "0.746\n",
      "---\n",
      "20\n",
      "0.1\n",
      "0.7845\n",
      "---\n",
      "20\n",
      "1\n",
      "0.7637\n",
      "---\n"
     ]
    },
    {
     "data": {
      "application/vnd.jupyter.widget-view+json": {
       "model_id": "4f60bd0637554d7faec87ecac2e0b879",
       "version_major": 2,
       "version_minor": 0
      },
      "text/plain": [
       "  0%|          | 0/5 [00:00<?, ?it/s]"
      ]
     },
     "metadata": {},
     "output_type": "display_data"
    },
    {
     "name": "stdout",
     "output_type": "stream",
     "text": [
      "15\n",
      "0.0001\n",
      "0.7492\n",
      "---\n",
      "15\n",
      "0.001\n",
      "0.767\n",
      "---\n",
      "15\n",
      "0.01\n",
      "0.7863\n",
      "---\n",
      "15\n",
      "0.1\n",
      "0.8048\n",
      "---\n",
      "15\n",
      "1\n",
      "0.7522\n",
      "---\n"
     ]
    },
    {
     "data": {
      "application/vnd.jupyter.widget-view+json": {
       "model_id": "25d0ccf4c2f44f6bbbccefc2c9da286f",
       "version_major": 2,
       "version_minor": 0
      },
      "text/plain": [
       "  0%|          | 0/5 [00:00<?, ?it/s]"
      ]
     },
     "metadata": {},
     "output_type": "display_data"
    },
    {
     "name": "stdout",
     "output_type": "stream",
     "text": [
      "10\n",
      "0.0001\n",
      "0.8264\n",
      "---\n",
      "10\n",
      "0.001\n",
      "0.7909\n",
      "---\n",
      "10\n",
      "0.01\n",
      "0.8103\n",
      "---\n",
      "10\n",
      "0.1\n",
      "0.8528\n",
      "---\n",
      "10\n",
      "1\n",
      "0.8386\n",
      "---\n"
     ]
    },
    {
     "data": {
      "application/vnd.jupyter.widget-view+json": {
       "model_id": "c772210f24904f739867a161126391f0",
       "version_major": 2,
       "version_minor": 0
      },
      "text/plain": [
       "  0%|          | 0/5 [00:00<?, ?it/s]"
      ]
     },
     "metadata": {},
     "output_type": "display_data"
    },
    {
     "name": "stdout",
     "output_type": "stream",
     "text": [
      "5\n",
      "0.0001\n",
      "0.6825\n",
      "---\n",
      "5\n",
      "0.001\n",
      "0.6867\n",
      "---\n",
      "5\n",
      "0.01\n",
      "0.6909\n",
      "---\n",
      "5\n",
      "0.1\n",
      "0.6763\n",
      "---\n",
      "5\n",
      "1\n",
      "0.6495\n",
      "---\n"
     ]
    }
   ],
   "source": [
    "logfile = ''\n",
    "\n",
    "cca_train_met = MetricDict()\n",
    "for batch in dataprovider.training_data:\n",
    "    cca_train_met.update(batch)\n",
    "    \n",
    "cca_train = cca_train_met.output()\n",
    "    \n",
    "data_for_acc = dataprovider.eval_data\n",
    "\n",
    "results_dict = dict()\n",
    "for cca_dim in tqdm([80, 75, 70, 65, 60, 55, 50, 45, 40, 35, 30, 25, 20, 15, 10, 5]):\n",
    "    results_dict[cca_dim] = dict()\n",
    "    for reg in tqdm([1e-4, 1e-3, 1e-2, 1e-1, 1]):\n",
    "        B1, B2, epsilon, omega, ccor, mean_v0, mean_v1 = CCA(\n",
    "            cca_train['nn_input_0'],\n",
    "            cca_train['nn_input_1'],\n",
    "            num_shared_dim=cca_dim,\n",
    "            r1=reg,\n",
    "            r2=reg\n",
    "        )    \n",
    "\n",
    "        outputs_met, labels_met = MetricDict(), MetricDict()\n",
    "        for data in data_for_acc:\n",
    "            m = tf.cast(tf.shape(data['nn_input_0'])[:1], tf.float32)\n",
    "            v0_bar = tf.subtract(tf.cast(data['nn_input_0'], tf.float32), mean_v0) \n",
    "            v1_bar = tf.subtract(tf.cast(data['nn_input_1'], tf.float32), mean_v1)\n",
    "            epsilon = B1@tf.transpose(v0_bar)\n",
    "            omega = B2@tf.transpose(v1_bar)\n",
    "\n",
    "            cca_transformed_0 = epsilon.numpy().T\n",
    "            cca_transformed_1 = omega.numpy().T\n",
    "\n",
    "            outputs_met.update(dict(cca_view_0=cca_transformed_0, cca_view_1=cca_transformed_1))\n",
    "            labels_met.update(dict(labels=data[\"labels\"].numpy()))\n",
    "\n",
    "        netw_output = outputs_met.output()\n",
    "        labels = labels_met.output()[\"labels\"]\n",
    "\n",
    "        latent_repr = netw_output[\"cca_view_0\"]\n",
    "\n",
    "        acc = spectral_clustering_acc(\n",
    "            data_points=latent_repr,\n",
    "            labels=labels,\n",
    "            num_classes=dataprovider.num_classes\n",
    "        )\n",
    "        \n",
    "        results_dict[cca_dim][reg] = acc\n",
    "        \n",
    "        with open(logfile, 'wb') as f:\n",
    "            pickle.dump(results_dict, f)\n",
    "\n",
    "        print(cca_dim)\n",
    "        print(reg)\n",
    "        print(acc)\n",
    "        print(\"---\")"
   ]
  },
  {
   "cell_type": "code",
   "execution_count": 5,
   "id": "2ee9f386",
   "metadata": {},
   "outputs": [],
   "source": [
    "dataprovider = MNISTData.from_saved_data('mnist_1boxes')"
   ]
  },
  {
   "cell_type": "code",
   "execution_count": 6,
   "id": "3a783e70",
   "metadata": {},
   "outputs": [
    {
     "data": {
      "application/vnd.jupyter.widget-view+json": {
       "model_id": "60073eae67db49bca2088fe2bef66ff2",
       "version_major": 2,
       "version_minor": 0
      },
      "text/plain": [
       "  0%|          | 0/16 [00:00<?, ?it/s]"
      ]
     },
     "metadata": {},
     "output_type": "display_data"
    },
    {
     "data": {
      "application/vnd.jupyter.widget-view+json": {
       "model_id": "6205a3d85bf442ba859931a8da3595a6",
       "version_major": 2,
       "version_minor": 0
      },
      "text/plain": [
       "  0%|          | 0/5 [00:00<?, ?it/s]"
      ]
     },
     "metadata": {},
     "output_type": "display_data"
    },
    {
     "name": "stdout",
     "output_type": "stream",
     "text": [
      "80\n",
      "0.0001\n",
      "0.3911\n",
      "---\n",
      "80\n",
      "0.001\n",
      "0.4403\n",
      "---\n",
      "80\n",
      "0.01\n",
      "0.4277\n",
      "---\n",
      "80\n",
      "0.1\n",
      "0.3878\n",
      "---\n",
      "80\n",
      "1\n",
      "0.4253\n",
      "---\n"
     ]
    },
    {
     "data": {
      "application/vnd.jupyter.widget-view+json": {
       "model_id": "81624005910746e19398dab226f599fb",
       "version_major": 2,
       "version_minor": 0
      },
      "text/plain": [
       "  0%|          | 0/5 [00:00<?, ?it/s]"
      ]
     },
     "metadata": {},
     "output_type": "display_data"
    },
    {
     "name": "stdout",
     "output_type": "stream",
     "text": [
      "75\n",
      "0.0001\n",
      "0.4334\n",
      "---\n",
      "75\n",
      "0.001\n",
      "0.4425\n",
      "---\n",
      "75\n",
      "0.01\n",
      "0.4302\n",
      "---\n",
      "75\n",
      "0.1\n",
      "0.3928\n",
      "---\n",
      "75\n",
      "1\n",
      "0.4284\n",
      "---\n"
     ]
    },
    {
     "data": {
      "application/vnd.jupyter.widget-view+json": {
       "model_id": "6d8cd86c38ea48c4b2582d6dd4ce9727",
       "version_major": 2,
       "version_minor": 0
      },
      "text/plain": [
       "  0%|          | 0/5 [00:00<?, ?it/s]"
      ]
     },
     "metadata": {},
     "output_type": "display_data"
    },
    {
     "name": "stdout",
     "output_type": "stream",
     "text": [
      "70\n",
      "0.0001\n",
      "0.4527\n",
      "---\n",
      "70\n",
      "0.001\n",
      "0.487\n",
      "---\n",
      "70\n",
      "0.01\n",
      "0.4875\n",
      "---\n",
      "70\n",
      "0.1\n",
      "0.4737\n",
      "---\n",
      "70\n",
      "1\n",
      "0.4411\n",
      "---\n"
     ]
    },
    {
     "data": {
      "application/vnd.jupyter.widget-view+json": {
       "model_id": "ea5a9d26f2ee4156a5a8bd8b6092084e",
       "version_major": 2,
       "version_minor": 0
      },
      "text/plain": [
       "  0%|          | 0/5 [00:00<?, ?it/s]"
      ]
     },
     "metadata": {},
     "output_type": "display_data"
    },
    {
     "name": "stdout",
     "output_type": "stream",
     "text": [
      "65\n",
      "0.0001\n",
      "0.4553\n",
      "---\n",
      "65\n",
      "0.001\n",
      "0.4849\n",
      "---\n",
      "65\n",
      "0.01\n",
      "0.527\n",
      "---\n",
      "65\n",
      "0.1\n",
      "0.5028\n",
      "---\n",
      "65\n",
      "1\n",
      "0.4474\n",
      "---\n"
     ]
    },
    {
     "data": {
      "application/vnd.jupyter.widget-view+json": {
       "model_id": "9b29b25baca149f390ef7c31a0bb2dbe",
       "version_major": 2,
       "version_minor": 0
      },
      "text/plain": [
       "  0%|          | 0/5 [00:00<?, ?it/s]"
      ]
     },
     "metadata": {},
     "output_type": "display_data"
    },
    {
     "name": "stdout",
     "output_type": "stream",
     "text": [
      "60\n",
      "0.0001\n",
      "0.5012\n",
      "---\n",
      "60\n",
      "0.001\n",
      "0.514\n",
      "---\n",
      "60\n",
      "0.01\n",
      "0.522\n",
      "---\n",
      "60\n",
      "0.1\n",
      "0.558\n",
      "---\n",
      "60\n",
      "1\n",
      "0.4913\n",
      "---\n"
     ]
    },
    {
     "data": {
      "application/vnd.jupyter.widget-view+json": {
       "model_id": "39e536d03743436b90e5a437f257c9d0",
       "version_major": 2,
       "version_minor": 0
      },
      "text/plain": [
       "  0%|          | 0/5 [00:00<?, ?it/s]"
      ]
     },
     "metadata": {},
     "output_type": "display_data"
    },
    {
     "name": "stdout",
     "output_type": "stream",
     "text": [
      "55\n",
      "0.0001\n",
      "0.5293\n",
      "---\n",
      "55\n",
      "0.001\n",
      "0.4907\n",
      "---\n",
      "55\n",
      "0.01\n",
      "0.528\n",
      "---\n",
      "55\n",
      "0.1\n",
      "0.5745\n",
      "---\n",
      "55\n",
      "1\n",
      "0.4898\n",
      "---\n"
     ]
    },
    {
     "data": {
      "application/vnd.jupyter.widget-view+json": {
       "model_id": "2ea8f23a073f41edaf880fa98036f951",
       "version_major": 2,
       "version_minor": 0
      },
      "text/plain": [
       "  0%|          | 0/5 [00:00<?, ?it/s]"
      ]
     },
     "metadata": {},
     "output_type": "display_data"
    },
    {
     "name": "stdout",
     "output_type": "stream",
     "text": [
      "50\n",
      "0.0001\n",
      "0.5366\n",
      "---\n",
      "50\n",
      "0.001\n",
      "0.551\n",
      "---\n",
      "50\n",
      "0.01\n",
      "0.5736\n",
      "---\n",
      "50\n",
      "0.1\n",
      "0.5639\n",
      "---\n",
      "50\n",
      "1\n",
      "0.5289\n",
      "---\n"
     ]
    },
    {
     "data": {
      "application/vnd.jupyter.widget-view+json": {
       "model_id": "b18fa87f879a4b05b023f918b38fab75",
       "version_major": 2,
       "version_minor": 0
      },
      "text/plain": [
       "  0%|          | 0/5 [00:00<?, ?it/s]"
      ]
     },
     "metadata": {},
     "output_type": "display_data"
    },
    {
     "name": "stdout",
     "output_type": "stream",
     "text": [
      "45\n",
      "0.0001\n",
      "0.539\n",
      "---\n",
      "45\n",
      "0.001\n",
      "0.557\n",
      "---\n",
      "45\n",
      "0.01\n",
      "0.5957\n",
      "---\n",
      "45\n",
      "0.1\n",
      "0.603\n",
      "---\n",
      "45\n",
      "1\n",
      "0.547\n",
      "---\n"
     ]
    },
    {
     "data": {
      "application/vnd.jupyter.widget-view+json": {
       "model_id": "259dea5fe211451197b3527326bf4e55",
       "version_major": 2,
       "version_minor": 0
      },
      "text/plain": [
       "  0%|          | 0/5 [00:00<?, ?it/s]"
      ]
     },
     "metadata": {},
     "output_type": "display_data"
    },
    {
     "name": "stdout",
     "output_type": "stream",
     "text": [
      "40\n",
      "0.0001\n",
      "0.5501\n",
      "---\n",
      "40\n",
      "0.001\n",
      "0.5872\n",
      "---\n",
      "40\n",
      "0.01\n",
      "0.6091\n",
      "---\n",
      "40\n",
      "0.1\n",
      "0.6174\n",
      "---\n",
      "40\n",
      "1\n",
      "0.5567\n",
      "---\n"
     ]
    },
    {
     "data": {
      "application/vnd.jupyter.widget-view+json": {
       "model_id": "72fb9625213b47b5915def4eba9553b4",
       "version_major": 2,
       "version_minor": 0
      },
      "text/plain": [
       "  0%|          | 0/5 [00:00<?, ?it/s]"
      ]
     },
     "metadata": {},
     "output_type": "display_data"
    },
    {
     "name": "stdout",
     "output_type": "stream",
     "text": [
      "35\n",
      "0.0001\n",
      "0.577\n",
      "---\n",
      "35\n",
      "0.001\n",
      "0.5908\n",
      "---\n",
      "35\n",
      "0.01\n",
      "0.6169\n",
      "---\n",
      "35\n",
      "0.1\n",
      "0.6174\n",
      "---\n",
      "35\n",
      "1\n",
      "0.5674\n",
      "---\n"
     ]
    },
    {
     "data": {
      "application/vnd.jupyter.widget-view+json": {
       "model_id": "a606d572ca814de9b4aa64c354bcf367",
       "version_major": 2,
       "version_minor": 0
      },
      "text/plain": [
       "  0%|          | 0/5 [00:00<?, ?it/s]"
      ]
     },
     "metadata": {},
     "output_type": "display_data"
    },
    {
     "name": "stdout",
     "output_type": "stream",
     "text": [
      "30\n",
      "0.0001\n",
      "0.5965\n",
      "---\n",
      "30\n",
      "0.001\n",
      "0.6105\n",
      "---\n",
      "30\n",
      "0.01\n",
      "0.6264\n",
      "---\n",
      "30\n",
      "0.1\n",
      "0.6398\n",
      "---\n",
      "30\n",
      "1\n",
      "0.568\n",
      "---\n"
     ]
    },
    {
     "data": {
      "application/vnd.jupyter.widget-view+json": {
       "model_id": "77e5523d83e04b679c5d30a432ba9526",
       "version_major": 2,
       "version_minor": 0
      },
      "text/plain": [
       "  0%|          | 0/5 [00:00<?, ?it/s]"
      ]
     },
     "metadata": {},
     "output_type": "display_data"
    },
    {
     "name": "stdout",
     "output_type": "stream",
     "text": [
      "25\n",
      "0.0001\n",
      "0.6078\n",
      "---\n",
      "25\n",
      "0.001\n",
      "0.6257\n",
      "---\n",
      "25\n",
      "0.01\n",
      "0.637\n",
      "---\n",
      "25\n",
      "0.1\n",
      "0.6395\n",
      "---\n",
      "25\n",
      "1\n",
      "0.6213\n",
      "---\n"
     ]
    },
    {
     "data": {
      "application/vnd.jupyter.widget-view+json": {
       "model_id": "cf0b68c051ee42c7bf1f1a1c69bb372c",
       "version_major": 2,
       "version_minor": 0
      },
      "text/plain": [
       "  0%|          | 0/5 [00:00<?, ?it/s]"
      ]
     },
     "metadata": {},
     "output_type": "display_data"
    },
    {
     "name": "stdout",
     "output_type": "stream",
     "text": [
      "20\n",
      "0.0001\n",
      "0.6322\n",
      "---\n",
      "20\n",
      "0.001\n",
      "0.6421\n",
      "---\n",
      "20\n",
      "0.01\n",
      "0.6619\n",
      "---\n",
      "20\n",
      "0.1\n",
      "0.69\n",
      "---\n",
      "20\n",
      "1\n",
      "0.6353\n",
      "---\n"
     ]
    },
    {
     "data": {
      "application/vnd.jupyter.widget-view+json": {
       "model_id": "a5e29a95ff3d4f2eb293e21af491d499",
       "version_major": 2,
       "version_minor": 0
      },
      "text/plain": [
       "  0%|          | 0/5 [00:00<?, ?it/s]"
      ]
     },
     "metadata": {},
     "output_type": "display_data"
    },
    {
     "name": "stdout",
     "output_type": "stream",
     "text": [
      "15\n",
      "0.0001\n",
      "0.6524\n",
      "---\n",
      "15\n",
      "0.001\n",
      "0.6645\n",
      "---\n",
      "15\n",
      "0.01\n",
      "0.6809\n",
      "---\n",
      "15\n",
      "0.1\n",
      "0.6982\n",
      "---\n",
      "15\n",
      "1\n",
      "0.6791\n",
      "---\n"
     ]
    },
    {
     "data": {
      "application/vnd.jupyter.widget-view+json": {
       "model_id": "9b301dfdb2084ee79168ed571f83541c",
       "version_major": 2,
       "version_minor": 0
      },
      "text/plain": [
       "  0%|          | 0/5 [00:00<?, ?it/s]"
      ]
     },
     "metadata": {},
     "output_type": "display_data"
    },
    {
     "name": "stdout",
     "output_type": "stream",
     "text": [
      "10\n",
      "0.0001\n",
      "0.6721\n",
      "---\n",
      "10\n",
      "0.001\n",
      "0.6821\n",
      "---\n",
      "10\n",
      "0.01\n",
      "0.6911\n",
      "---\n",
      "10\n",
      "0.1\n",
      "0.7086\n",
      "---\n",
      "10\n",
      "1\n",
      "0.717\n",
      "---\n"
     ]
    },
    {
     "data": {
      "application/vnd.jupyter.widget-view+json": {
       "model_id": "a8f24349e44e48f085bce85b1ba0a24f",
       "version_major": 2,
       "version_minor": 0
      },
      "text/plain": [
       "  0%|          | 0/5 [00:00<?, ?it/s]"
      ]
     },
     "metadata": {},
     "output_type": "display_data"
    },
    {
     "name": "stdout",
     "output_type": "stream",
     "text": [
      "5\n",
      "0.0001\n",
      "0.5474\n",
      "---\n",
      "5\n",
      "0.001\n",
      "0.5537\n",
      "---\n",
      "5\n",
      "0.01\n",
      "0.5793\n",
      "---\n",
      "5\n",
      "0.1\n",
      "0.5746\n",
      "---\n",
      "5\n",
      "1\n",
      "0.5535\n",
      "---\n"
     ]
    }
   ],
   "source": [
    "logfile = ''\n",
    "\n",
    "cca_train_met = MetricDict()\n",
    "for batch in dataprovider.training_data:\n",
    "    cca_train_met.update(batch)\n",
    "    \n",
    "cca_train = cca_train_met.output()\n",
    "    \n",
    "data_for_acc = dataprovider.eval_data\n",
    "\n",
    "results_dict = dict()\n",
    "for cca_dim in tqdm([80, 75, 70, 65, 60, 55, 50, 45, 40, 35, 30, 25, 20, 15, 10, 5]):\n",
    "    results_dict[cca_dim] = dict()\n",
    "    for reg in tqdm([1e-4, 1e-3, 1e-2, 1e-1, 1]):\n",
    "        B1, B2, epsilon, omega, ccor, mean_v0, mean_v1 = CCA(\n",
    "            cca_train['nn_input_0'],\n",
    "            cca_train['nn_input_1'],\n",
    "            num_shared_dim=cca_dim,\n",
    "            r1=reg,\n",
    "            r2=reg\n",
    "        )    \n",
    "\n",
    "        outputs_met, labels_met = MetricDict(), MetricDict()\n",
    "        for data in data_for_acc:\n",
    "            m = tf.cast(tf.shape(data['nn_input_0'])[:1], tf.float32)\n",
    "            v0_bar = tf.subtract(tf.cast(data['nn_input_0'], tf.float32), mean_v0) \n",
    "            v1_bar = tf.subtract(tf.cast(data['nn_input_1'], tf.float32), mean_v1)\n",
    "            epsilon = B1@tf.transpose(v0_bar)\n",
    "            omega = B2@tf.transpose(v1_bar)\n",
    "\n",
    "            cca_transformed_0 = epsilon.numpy().T\n",
    "            cca_transformed_1 = omega.numpy().T\n",
    "\n",
    "            outputs_met.update(dict(cca_view_0=cca_transformed_0, cca_view_1=cca_transformed_1))\n",
    "            labels_met.update(dict(labels=data[\"labels\"].numpy()))\n",
    "\n",
    "        netw_output = outputs_met.output()\n",
    "        labels = labels_met.output()[\"labels\"]\n",
    "\n",
    "        latent_repr = netw_output[\"cca_view_0\"]\n",
    "\n",
    "        acc = spectral_clustering_acc(\n",
    "            data_points=latent_repr,\n",
    "            labels=labels,\n",
    "            num_classes=dataprovider.num_classes\n",
    "        )\n",
    "        \n",
    "        results_dict[cca_dim][reg] = acc\n",
    "        \n",
    "        with open(logfile, 'wb') as f:\n",
    "            pickle.dump(results_dict, f)\n",
    "\n",
    "        print(cca_dim)\n",
    "        print(reg)\n",
    "        print(acc)\n",
    "        print(\"---\")"
   ]
  },
  {
   "cell_type": "code",
   "execution_count": 7,
   "id": "e63d1b3d",
   "metadata": {},
   "outputs": [],
   "source": [
    "dataprovider = MNISTData.from_saved_data('mnist_2boxes')"
   ]
  },
  {
   "cell_type": "code",
   "execution_count": 8,
   "id": "31962724",
   "metadata": {},
   "outputs": [
    {
     "data": {
      "application/vnd.jupyter.widget-view+json": {
       "model_id": "ed70b33c56144f5baa7491e84e753676",
       "version_major": 2,
       "version_minor": 0
      },
      "text/plain": [
       "  0%|          | 0/16 [00:00<?, ?it/s]"
      ]
     },
     "metadata": {},
     "output_type": "display_data"
    },
    {
     "data": {
      "application/vnd.jupyter.widget-view+json": {
       "model_id": "5a448a724c1d4c709ebd1074ee3d7895",
       "version_major": 2,
       "version_minor": 0
      },
      "text/plain": [
       "  0%|          | 0/5 [00:00<?, ?it/s]"
      ]
     },
     "metadata": {},
     "output_type": "display_data"
    },
    {
     "name": "stdout",
     "output_type": "stream",
     "text": [
      "80\n",
      "0.0001\n",
      "0.3688\n",
      "---\n",
      "80\n",
      "0.001\n",
      "0.4327\n",
      "---\n",
      "80\n",
      "0.01\n",
      "0.4584\n",
      "---\n",
      "80\n",
      "0.1\n",
      "0.3832\n",
      "---\n",
      "80\n",
      "1\n",
      "0.3476\n",
      "---\n"
     ]
    },
    {
     "data": {
      "application/vnd.jupyter.widget-view+json": {
       "model_id": "bbdbec75b685469c8a2e4751a3649335",
       "version_major": 2,
       "version_minor": 0
      },
      "text/plain": [
       "  0%|          | 0/5 [00:00<?, ?it/s]"
      ]
     },
     "metadata": {},
     "output_type": "display_data"
    },
    {
     "name": "stdout",
     "output_type": "stream",
     "text": [
      "75\n",
      "0.0001\n",
      "0.3874\n",
      "---\n",
      "75\n",
      "0.001\n",
      "0.4316\n",
      "---\n",
      "75\n",
      "0.01\n",
      "0.5077\n",
      "---\n",
      "75\n",
      "0.1\n",
      "0.4269\n",
      "---\n",
      "75\n",
      "1\n",
      "0.3505\n",
      "---\n"
     ]
    },
    {
     "data": {
      "application/vnd.jupyter.widget-view+json": {
       "model_id": "6b9aabf3f5b64d8786106f81bbe05ce2",
       "version_major": 2,
       "version_minor": 0
      },
      "text/plain": [
       "  0%|          | 0/5 [00:00<?, ?it/s]"
      ]
     },
     "metadata": {},
     "output_type": "display_data"
    },
    {
     "name": "stdout",
     "output_type": "stream",
     "text": [
      "70\n",
      "0.0001\n",
      "0.4168\n",
      "---\n",
      "70\n",
      "0.001\n",
      "0.4674\n",
      "---\n",
      "70\n",
      "0.01\n",
      "0.5004\n",
      "---\n",
      "70\n",
      "0.1\n",
      "0.4418\n",
      "---\n",
      "70\n",
      "1\n",
      "0.3547\n",
      "---\n"
     ]
    },
    {
     "data": {
      "application/vnd.jupyter.widget-view+json": {
       "model_id": "0a6baede85f84cc1ba0304fffb01a11c",
       "version_major": 2,
       "version_minor": 0
      },
      "text/plain": [
       "  0%|          | 0/5 [00:00<?, ?it/s]"
      ]
     },
     "metadata": {},
     "output_type": "display_data"
    },
    {
     "name": "stdout",
     "output_type": "stream",
     "text": [
      "65\n",
      "0.0001\n",
      "0.4222\n",
      "---\n",
      "65\n",
      "0.001\n",
      "0.4691\n",
      "---\n",
      "65\n",
      "0.01\n",
      "0.5139\n",
      "---\n",
      "65\n",
      "0.1\n",
      "0.4449\n",
      "---\n",
      "65\n",
      "1\n",
      "0.3581\n",
      "---\n"
     ]
    },
    {
     "data": {
      "application/vnd.jupyter.widget-view+json": {
       "model_id": "02b5a6e63d2b4c72a1bfdf08c6d25bb4",
       "version_major": 2,
       "version_minor": 0
      },
      "text/plain": [
       "  0%|          | 0/5 [00:00<?, ?it/s]"
      ]
     },
     "metadata": {},
     "output_type": "display_data"
    },
    {
     "name": "stdout",
     "output_type": "stream",
     "text": [
      "60\n",
      "0.0001\n",
      "0.4404\n",
      "---\n",
      "60\n",
      "0.001\n",
      "0.4855\n",
      "---\n",
      "60\n",
      "0.01\n",
      "0.5398\n",
      "---\n",
      "60\n",
      "0.1\n",
      "0.5505\n",
      "---\n",
      "60\n",
      "1\n",
      "0.3556\n",
      "---\n"
     ]
    },
    {
     "data": {
      "application/vnd.jupyter.widget-view+json": {
       "model_id": "4a38710acdcd401abd9d3f2e71712f33",
       "version_major": 2,
       "version_minor": 0
      },
      "text/plain": [
       "  0%|          | 0/5 [00:00<?, ?it/s]"
      ]
     },
     "metadata": {},
     "output_type": "display_data"
    },
    {
     "name": "stdout",
     "output_type": "stream",
     "text": [
      "55\n",
      "0.0001\n",
      "0.4579\n",
      "---\n",
      "55\n",
      "0.001\n",
      "0.4884\n",
      "---\n",
      "55\n",
      "0.01\n",
      "0.555\n",
      "---\n",
      "55\n",
      "0.1\n",
      "0.5521\n",
      "---\n",
      "55\n",
      "1\n",
      "0.3972\n",
      "---\n"
     ]
    },
    {
     "data": {
      "application/vnd.jupyter.widget-view+json": {
       "model_id": "f44f2a00cd8448b786a8b3f9428d9000",
       "version_major": 2,
       "version_minor": 0
      },
      "text/plain": [
       "  0%|          | 0/5 [00:00<?, ?it/s]"
      ]
     },
     "metadata": {},
     "output_type": "display_data"
    },
    {
     "name": "stdout",
     "output_type": "stream",
     "text": [
      "50\n",
      "0.0001\n",
      "0.476\n",
      "---\n",
      "50\n",
      "0.001\n",
      "0.4783\n",
      "---\n",
      "50\n",
      "0.01\n",
      "0.5718\n",
      "---\n",
      "50\n",
      "0.1\n",
      "0.5428\n",
      "---\n",
      "50\n",
      "1\n",
      "0.3935\n",
      "---\n"
     ]
    },
    {
     "data": {
      "application/vnd.jupyter.widget-view+json": {
       "model_id": "1d7d77d955334b75b5ec2ef7a3e05261",
       "version_major": 2,
       "version_minor": 0
      },
      "text/plain": [
       "  0%|          | 0/5 [00:00<?, ?it/s]"
      ]
     },
     "metadata": {},
     "output_type": "display_data"
    },
    {
     "name": "stdout",
     "output_type": "stream",
     "text": [
      "45\n",
      "0.0001\n",
      "0.4935\n",
      "---\n",
      "45\n",
      "0.001\n",
      "0.5203\n",
      "---\n",
      "45\n",
      "0.01\n",
      "0.5674\n",
      "---\n",
      "45\n",
      "0.1\n",
      "0.5375\n",
      "---\n",
      "45\n",
      "1\n",
      "0.4093\n",
      "---\n"
     ]
    },
    {
     "data": {
      "application/vnd.jupyter.widget-view+json": {
       "model_id": "97bd5e2512484b16b0960787c76ee385",
       "version_major": 2,
       "version_minor": 0
      },
      "text/plain": [
       "  0%|          | 0/5 [00:00<?, ?it/s]"
      ]
     },
     "metadata": {},
     "output_type": "display_data"
    },
    {
     "name": "stdout",
     "output_type": "stream",
     "text": [
      "40\n",
      "0.0001\n",
      "0.5019\n",
      "---\n",
      "40\n",
      "0.001\n",
      "0.5307\n",
      "---\n",
      "40\n",
      "0.01\n",
      "0.5812\n",
      "---\n",
      "40\n",
      "0.1\n",
      "0.5484\n",
      "---\n",
      "40\n",
      "1\n",
      "0.4507\n",
      "---\n"
     ]
    },
    {
     "data": {
      "application/vnd.jupyter.widget-view+json": {
       "model_id": "614179c39e9e48d5915a73307036ba93",
       "version_major": 2,
       "version_minor": 0
      },
      "text/plain": [
       "  0%|          | 0/5 [00:00<?, ?it/s]"
      ]
     },
     "metadata": {},
     "output_type": "display_data"
    },
    {
     "name": "stdout",
     "output_type": "stream",
     "text": [
      "35\n",
      "0.0001\n",
      "0.4997\n",
      "---\n",
      "35\n",
      "0.001\n",
      "0.5399\n",
      "---\n",
      "35\n",
      "0.01\n",
      "0.581\n",
      "---\n",
      "35\n",
      "0.1\n",
      "0.5887\n",
      "---\n",
      "35\n",
      "1\n",
      "0.477\n",
      "---\n"
     ]
    },
    {
     "data": {
      "application/vnd.jupyter.widget-view+json": {
       "model_id": "e100a11557264763ab68b4fd78653c19",
       "version_major": 2,
       "version_minor": 0
      },
      "text/plain": [
       "  0%|          | 0/5 [00:00<?, ?it/s]"
      ]
     },
     "metadata": {},
     "output_type": "display_data"
    },
    {
     "name": "stdout",
     "output_type": "stream",
     "text": [
      "30\n",
      "0.0001\n",
      "0.5031\n",
      "---\n",
      "30\n",
      "0.001\n",
      "0.5564\n",
      "---\n",
      "30\n",
      "0.01\n",
      "0.589\n",
      "---\n",
      "30\n",
      "0.1\n",
      "0.5965\n",
      "---\n",
      "30\n",
      "1\n",
      "0.4805\n",
      "---\n"
     ]
    },
    {
     "data": {
      "application/vnd.jupyter.widget-view+json": {
       "model_id": "12f8e87e7c0249ad9cc81403539384e3",
       "version_major": 2,
       "version_minor": 0
      },
      "text/plain": [
       "  0%|          | 0/5 [00:00<?, ?it/s]"
      ]
     },
     "metadata": {},
     "output_type": "display_data"
    },
    {
     "name": "stdout",
     "output_type": "stream",
     "text": [
      "25\n",
      "0.0001\n",
      "0.5129\n",
      "---\n",
      "25\n",
      "0.001\n",
      "0.5621\n",
      "---\n",
      "25\n",
      "0.01\n",
      "0.5977\n",
      "---\n",
      "25\n",
      "0.1\n",
      "0.6291\n",
      "---\n",
      "25\n",
      "1\n",
      "0.5291\n",
      "---\n"
     ]
    },
    {
     "data": {
      "application/vnd.jupyter.widget-view+json": {
       "model_id": "8038be56992b4f629a45ef33a2e85e82",
       "version_major": 2,
       "version_minor": 0
      },
      "text/plain": [
       "  0%|          | 0/5 [00:00<?, ?it/s]"
      ]
     },
     "metadata": {},
     "output_type": "display_data"
    },
    {
     "name": "stdout",
     "output_type": "stream",
     "text": [
      "20\n",
      "0.0001\n",
      "0.5204\n",
      "---\n",
      "20\n",
      "0.001\n",
      "0.5831\n",
      "---\n",
      "20\n",
      "0.01\n",
      "0.6194\n",
      "---\n",
      "20\n",
      "0.1\n",
      "0.6443\n",
      "---\n",
      "20\n",
      "1\n",
      "0.5553\n",
      "---\n"
     ]
    },
    {
     "data": {
      "application/vnd.jupyter.widget-view+json": {
       "model_id": "83c85e1c4e5749efbfe67859e22ec578",
       "version_major": 2,
       "version_minor": 0
      },
      "text/plain": [
       "  0%|          | 0/5 [00:00<?, ?it/s]"
      ]
     },
     "metadata": {},
     "output_type": "display_data"
    },
    {
     "name": "stdout",
     "output_type": "stream",
     "text": [
      "15\n",
      "0.0001\n",
      "0.5517\n",
      "---\n",
      "15\n",
      "0.001\n",
      "0.5908\n",
      "---\n",
      "15\n",
      "0.01\n",
      "0.6364\n",
      "---\n",
      "15\n",
      "0.1\n",
      "0.6375\n",
      "---\n",
      "15\n",
      "1\n",
      "0.5481\n",
      "---\n"
     ]
    },
    {
     "data": {
      "application/vnd.jupyter.widget-view+json": {
       "model_id": "3681c6e5020d4f77b57a6db09b95b54e",
       "version_major": 2,
       "version_minor": 0
      },
      "text/plain": [
       "  0%|          | 0/5 [00:00<?, ?it/s]"
      ]
     },
     "metadata": {},
     "output_type": "display_data"
    },
    {
     "name": "stdout",
     "output_type": "stream",
     "text": [
      "10\n",
      "0.0001\n",
      "0.5838\n",
      "---\n",
      "10\n",
      "0.001\n",
      "0.6067\n",
      "---\n",
      "10\n",
      "0.01\n",
      "0.6552\n",
      "---\n",
      "10\n",
      "0.1\n",
      "0.6603\n",
      "---\n",
      "10\n",
      "1\n",
      "0.6457\n",
      "---\n"
     ]
    },
    {
     "data": {
      "application/vnd.jupyter.widget-view+json": {
       "model_id": "b996b0e3456d4f12b8a32e0267de89c9",
       "version_major": 2,
       "version_minor": 0
      },
      "text/plain": [
       "  0%|          | 0/5 [00:00<?, ?it/s]"
      ]
     },
     "metadata": {},
     "output_type": "display_data"
    },
    {
     "name": "stdout",
     "output_type": "stream",
     "text": [
      "5\n",
      "0.0001\n",
      "0.4986\n",
      "---\n",
      "5\n",
      "0.001\n",
      "0.4995\n",
      "---\n",
      "5\n",
      "0.01\n",
      "0.495\n",
      "---\n",
      "5\n",
      "0.1\n",
      "0.5118\n",
      "---\n",
      "5\n",
      "1\n",
      "0.4934\n",
      "---\n"
     ]
    }
   ],
   "source": [
    "logfile = ''\n",
    "\n",
    "cca_train_met = MetricDict()\n",
    "for batch in dataprovider.training_data:\n",
    "    cca_train_met.update(batch)\n",
    "    \n",
    "cca_train = cca_train_met.output()\n",
    "    \n",
    "data_for_acc = dataprovider.eval_data\n",
    "\n",
    "results_dict = dict()\n",
    "for cca_dim in tqdm([80, 75, 70, 65, 60, 55, 50, 45, 40, 35, 30, 25, 20, 15, 10, 5]):\n",
    "    results_dict[cca_dim] = dict()\n",
    "    for reg in tqdm([1e-4, 1e-3, 1e-2, 1e-1, 1]):\n",
    "        B1, B2, epsilon, omega, ccor, mean_v0, mean_v1 = CCA(\n",
    "            cca_train['nn_input_0'],\n",
    "            cca_train['nn_input_1'],\n",
    "            num_shared_dim=cca_dim,\n",
    "            r1=reg,\n",
    "            r2=reg\n",
    "        )    \n",
    "\n",
    "        outputs_met, labels_met = MetricDict(), MetricDict()\n",
    "        for data in data_for_acc:\n",
    "            m = tf.cast(tf.shape(data['nn_input_0'])[:1], tf.float32)\n",
    "            v0_bar = tf.subtract(tf.cast(data['nn_input_0'], tf.float32), mean_v0) \n",
    "            v1_bar = tf.subtract(tf.cast(data['nn_input_1'], tf.float32), mean_v1)\n",
    "            epsilon = B1@tf.transpose(v0_bar)\n",
    "            omega = B2@tf.transpose(v1_bar)\n",
    "\n",
    "            cca_transformed_0 = epsilon.numpy().T\n",
    "            cca_transformed_1 = omega.numpy().T\n",
    "\n",
    "            outputs_met.update(dict(cca_view_0=cca_transformed_0, cca_view_1=cca_transformed_1))\n",
    "            labels_met.update(dict(labels=data[\"labels\"].numpy()))\n",
    "\n",
    "        netw_output = outputs_met.output()\n",
    "        labels = labels_met.output()[\"labels\"]\n",
    "\n",
    "        latent_repr = netw_output[\"cca_view_0\"]\n",
    "\n",
    "        acc = spectral_clustering_acc(\n",
    "            data_points=latent_repr,\n",
    "            labels=labels,\n",
    "            num_classes=dataprovider.num_classes\n",
    "        )\n",
    "        \n",
    "        results_dict[cca_dim][reg] = acc\n",
    "        \n",
    "        with open(logfile, 'wb') as f:\n",
    "            pickle.dump(results_dict, f)\n",
    "\n",
    "        print(cca_dim)\n",
    "        print(reg)\n",
    "        print(acc)\n",
    "        print(\"---\")"
   ]
  },
  {
   "cell_type": "markdown",
   "id": "cd408f44",
   "metadata": {},
   "source": [
    "# Test data"
   ]
  },
  {
   "cell_type": "markdown",
   "id": "2986e46e",
   "metadata": {},
   "source": [
    "cca_train_met = MetricDict()\n",
    "for batch in dataprovider.training_data:\n",
    "    cca_train_met.update(batch)\n",
    "    \n",
    "cca_train = cca_train_met.output()\n",
    "\n",
    "data_for_acc = dataprovider.test_data\n",
    "\n",
    "cca_dim = \n",
    "reg = \n",
    "\n",
    "B1, B2, epsilon, omega, ccor, mean_v0, mean_v1 = CCA(\n",
    "    cca_train['nn_input_0'],\n",
    "    cca_train['nn_input_1'],\n",
    "    num_shared_dim=cca_dim,\n",
    "    r1=reg,\n",
    "    r2=reg\n",
    ")    \n",
    "\n",
    "outputs_met, labels_met = MetricDict(), MetricDict()\n",
    "for data in data_for_acc:\n",
    "    m = tf.cast(tf.shape(data['nn_input_0'])[:1], tf.float32)\n",
    "    v0_bar = tf.subtract(tf.cast(data['nn_input_0'], tf.float32), mean_v0) \n",
    "    v1_bar = tf.subtract(tf.cast(data['nn_input_1'], tf.float32), mean_v1)\n",
    "    epsilon = B1@tf.transpose(v0_bar)\n",
    "    omega = B2@tf.transpose(v1_bar)\n",
    "\n",
    "    cca_transformed_0 = epsilon.numpy().T\n",
    "    cca_transformed_1 = omega.numpy().T\n",
    "\n",
    "    outputs_met.update(dict(cca_view_0=cca_transformed_0, cca_view_1=cca_transformed_1))\n",
    "    labels_met.update(dict(labels=data[\"labels\"].numpy()))\n",
    "\n",
    "netw_output = outputs_met.output()\n",
    "labels = labels_met.output()[\"labels\"]\n",
    "\n",
    "latent_repr = netw_output[\"cca_view_0\"]\n",
    "\n",
    "acc = spectral_clustering_acc(\n",
    "    data_points=latent_repr,\n",
    "    labels=labels,\n",
    "    num_classes=dataprovider.num_classes\n",
    ")\n",
    "\n",
    "print(cca_dim)\n",
    "print(reg)\n",
    "print(acc)\n",
    "print(\"---\")"
   ]
  }
 ],
 "metadata": {
  "kernelspec": {
   "display_name": "Python 3.7 (system)",
   "language": "python",
   "name": "python37"
  },
  "language_info": {
   "codemirror_mode": {
    "name": "ipython",
    "version": 3
   },
   "file_extension": ".py",
   "mimetype": "text/x-python",
   "name": "python",
   "nbconvert_exporter": "python",
   "pygments_lexer": "ipython3",
   "version": "3.7.12"
  }
 },
 "nbformat": 4,
 "nbformat_minor": 5
}
