{
 "cells": [
  {
   "cell_type": "code",
   "execution_count": null,
   "id": "5b95f667",
   "metadata": {},
   "outputs": [],
   "source": [
    "import os\n",
    "import numpy as np\n",
    "import pickle"
   ]
  },
  {
   "cell_type": "markdown",
   "id": "7cb3e92d",
   "metadata": {},
   "source": [
    "# Final"
   ]
  },
  {
   "cell_type": "markdown",
   "id": "6d3b552e",
   "metadata": {},
   "source": [
    "## DCCA"
   ]
  },
  {
   "cell_type": "code",
   "execution_count": null,
   "id": "a6cfc978",
   "metadata": {},
   "outputs": [],
   "source": [
    "with open('', 'rb') as f:\n",
    "    results_dict = pickle.load(f)\n",
    "\n",
    "print(results_dict)"
   ]
  },
  {
   "cell_type": "markdown",
   "id": "c4042526",
   "metadata": {},
   "source": [
    "## DCCAE"
   ]
  },
  {
   "cell_type": "code",
   "execution_count": null,
   "id": "92a7d333",
   "metadata": {},
   "outputs": [],
   "source": [
    "with open('', 'rb') as f:\n",
    "    results_dict = pickle.load(f)\n",
    "\n",
    "print(results_dict)"
   ]
  },
  {
   "cell_type": "markdown",
   "id": "34550cfe",
   "metadata": {},
   "source": [
    "## DCCAE Rademacher"
   ]
  },
  {
   "cell_type": "code",
   "execution_count": null,
   "id": "3e82ae6d",
   "metadata": {},
   "outputs": [],
   "source": [
    "with open('', 'rb') as f:\n",
    "    results_dict = pickle.load(f)\n",
    "\n",
    "print(results_dict)"
   ]
  }
 ],
 "metadata": {
  "kernelspec": {
   "display_name": "Python 3",
   "language": "python",
   "name": "python3"
  },
  "language_info": {
   "codemirror_mode": {
    "name": "ipython",
    "version": 3
   },
   "file_extension": ".py",
   "mimetype": "text/x-python",
   "name": "python",
   "nbconvert_exporter": "python",
   "pygments_lexer": "ipython3",
   "version": "3.10.0 (v3.10.0:b494f5935c, Oct  4 2021, 14:59:19) [Clang 12.0.5 (clang-1205.0.22.11)]"
  },
  "vscode": {
   "interpreter": {
    "hash": "aee8b7b246df8f9039afb4144a1f6fd8d2ca17a180786b69acc140d282b71a49"
   }
  }
 },
 "nbformat": 4,
 "nbformat_minor": 5
}
