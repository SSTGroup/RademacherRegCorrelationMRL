{
 "cells": [
  {
   "cell_type": "code",
   "execution_count": null,
   "id": "ffe61320",
   "metadata": {},
   "outputs": [],
   "source": [
    "%load_ext autoreload\n",
    "%autoreload 2"
   ]
  },
  {
   "cell_type": "code",
   "execution_count": null,
   "id": "6fc62ba5",
   "metadata": {},
   "outputs": [],
   "source": [
    "import os\n",
    "os.environ[\"CUDA_VISIBLE_DEVICES\"] = \"-1\"\n",
    "import numpy as np\n",
    "import tensorflow as tf\n",
    "import pandas as pd"
   ]
  },
  {
   "cell_type": "code",
   "execution_count": null,
   "id": "50854ed6",
   "metadata": {},
   "outputs": [],
   "source": [
    "from complexity_regularized_dcca.data.mnist import MNISTData\n",
    "from complexity_regularized_dcca.experiments.mnist import MNISTEvaluation"
   ]
  },
  {
   "cell_type": "code",
   "execution_count": null,
   "id": "febab445",
   "metadata": {},
   "outputs": [],
   "source": [
    "# Set experiments directory\n",
    "experiment_dir = ''\n",
    "\n",
    "# Load synthetic data\n",
    "mnist_dataprovider = MNISTData.from_saved_data(experiment_dir)"
   ]
  },
  {
   "cell_type": "code",
   "execution_count": null,
   "id": "d6183734",
   "metadata": {},
   "outputs": [],
   "source": [
    "validator = MNISTEvaluation(mnist_dataprovider, experiment_dir, regex='dcca_')"
   ]
  },
  {
   "cell_type": "code",
   "execution_count": null,
   "id": "85f5f78f",
   "metadata": {},
   "outputs": [],
   "source": [
    "validator.validate_all(weights_to_load='view0')"
   ]
  },
  {
   "cell_type": "code",
   "execution_count": null,
   "id": "c635311b",
   "metadata": {},
   "outputs": [],
   "source": [
    "validator.generate_result_table()"
   ]
  },
  {
   "cell_type": "code",
   "execution_count": null,
   "id": "bd6e9155",
   "metadata": {},
   "outputs": [],
   "source": [
    "validator = MNISTEvaluation(mnist_dataprovider, experiment_dir, regex='dccae_netwdim')"
   ]
  },
  {
   "cell_type": "code",
   "execution_count": null,
   "id": "0975d1b9",
   "metadata": {},
   "outputs": [],
   "source": [
    "validator.validate_all(weights_to_load='view0')"
   ]
  },
  {
   "cell_type": "code",
   "execution_count": null,
   "id": "cf6481fc",
   "metadata": {},
   "outputs": [],
   "source": [
    "validator.generate_result_table()"
   ]
  },
  {
   "cell_type": "code",
   "execution_count": null,
   "id": "b4765c99",
   "metadata": {},
   "outputs": [],
   "source": [
    "validator = MNISTEvaluation(mnist_dataprovider, experiment_dir, regex='dccae_radem_')"
   ]
  },
  {
   "cell_type": "code",
   "execution_count": null,
   "id": "4dbbb7c7",
   "metadata": {
    "scrolled": true
   },
   "outputs": [],
   "source": [
    "validator.validate_all(weights_to_load='view0')"
   ]
  },
  {
   "cell_type": "code",
   "execution_count": null,
   "id": "ac2e354e",
   "metadata": {},
   "outputs": [],
   "source": [
    "validator.generate_result_table()"
   ]
  }
 ],
 "metadata": {
  "kernelspec": {
   "display_name": "Python 3",
   "language": "python",
   "name": "python3"
  },
  "language_info": {
   "codemirror_mode": {
    "name": "ipython",
    "version": 3
   },
   "file_extension": ".py",
   "mimetype": "text/x-python",
   "name": "python",
   "nbconvert_exporter": "python",
   "pygments_lexer": "ipython3",
   "version": "3.10.0 (v3.10.0:b494f5935c, Oct  4 2021, 14:59:19) [Clang 12.0.5 (clang-1205.0.22.11)]"
  },
  "vscode": {
   "interpreter": {
    "hash": "aee8b7b246df8f9039afb4144a1f6fd8d2ca17a180786b69acc140d282b71a49"
   }
  }
 },
 "nbformat": 4,
 "nbformat_minor": 5
}
